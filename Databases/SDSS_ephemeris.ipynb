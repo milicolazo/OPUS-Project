{
 "cells": [
  {
   "cell_type": "markdown",
   "id": "f84e37a9-68f0-4cad-8cfb-d945f4f2bcf5",
   "metadata": {},
   "source": [
    "### Import the libraries"
   ]
  },
  {
   "cell_type": "code",
   "execution_count": null,
   "id": "0a4d2516-e45e-43d1-a103-a41d960b0f6a",
   "metadata": {},
   "outputs": [],
   "source": [
    "from astropy.time import Time\n",
    "from astroquery.jplhorizons import Horizons\n",
    "\n",
    "import matplotlib.pyplot as plt\n",
    "import numpy as np\n",
    "import os\n",
    "import pandas as pd\n",
    "import re\n",
    "import requests\n",
    "import time"
   ]
  },
  {
   "cell_type": "code",
   "execution_count": null,
   "id": "ea6a8daa-3ae3-494b-a28a-22e903402643",
   "metadata": {},
   "outputs": [],
   "source": [
    "# Ignore the warnings\n",
    "import warnings\n",
    "warnings.filterwarnings(\"ignore\")"
   ]
  },
  {
   "cell_type": "markdown",
   "id": "38d26130-bb21-40cb-964c-5d8c8fa4b363",
   "metadata": {},
   "source": [
    "---------------------------------------------------------------------------------------"
   ]
  },
  {
   "cell_type": "markdown",
   "id": "463238e2-8b61-4203-8d82-4f14fedc5c5e",
   "metadata": {},
   "source": [
    "## Read the catalog"
   ]
  },
  {
   "cell_type": "code",
   "execution_count": null,
   "id": "e5a9f02a-9846-4d70-b5f1-61799a6b0f5c",
   "metadata": {},
   "outputs": [],
   "source": [
    "# Dataframe\n",
    "df = pd.read_csv('SDSS-data.csv', header=None, usecols=[7,19,20,21,22,23,24,25,26,27,28,34,35,42,43,44], dtype={34: 'string'})\n",
    "df = df.rename(columns={7:'MJD', 19: 'u', 20: 'err_u', 21: 'g', 22: 'err_g', 23: 'r-mag', 24: 'err_r', 25: 'i', 26: 'err_i', 27: 'z', 28: 'err_z', 34: 'id', 35: 'des', \n",
    "                       42: 'r', 43: 'delta', 44: 'alpha'})"
   ]
  },
  {
   "cell_type": "code",
   "execution_count": null,
   "id": "674e5ce3-1ee8-4a97-a2e9-7a0bbef99834",
   "metadata": {},
   "outputs": [],
   "source": [
    "# Make the designation readable for Horizons\n",
    "df.replace('0', np.nan, inplace=True)\n",
    "df['id'].fillna(df['des'], inplace=True)\n",
    "df = df.replace('_', ' ', regex=True)\n",
    "df = df[~df.apply(lambda row: row.astype(str).str.contains('-').any(), axis=1)]"
   ]
  },
  {
   "cell_type": "markdown",
   "id": "b0aa4f20-2cde-4d3c-b4fb-2c5003d4564b",
   "metadata": {},
   "source": [
    "### Avoid repeating asteorids"
   ]
  },
  {
   "cell_type": "markdown",
   "id": "e96e039b-610e-40ca-bdbb-3058ce7b850b",
   "metadata": {},
   "source": [
    "Sometimes, during the Horizons query, some problems may appear. For example, bad internet connection. If we restart the code,\n",
    "we don't want to repeat the process for asteroids that already have a .csv file. This part of the code prevent that."
   ]
  },
  {
   "cell_type": "code",
   "execution_count": null,
   "id": "5cfc2e1e-d380-4fd4-8e62-9783d305f0fb",
   "metadata": {},
   "outputs": [],
   "source": [
    "# Specify the folder path where your CSV files are located\n",
    "folder_path = '/home/milagros/Documents/SDSS-files'\n",
    "\n",
    "# Initialize an empty list to store the formatted asteroid numbers\n",
    "formatted_asteroid_numbers = []\n",
    "\n",
    "# Define a regular expression pattern to match the filenames\n",
    "pattern = r'SDSS-asteroid([\\w\\s]+)\\.csv'\n",
    "\n",
    "# List all files in the folder\n",
    "files = os.listdir(folder_path)\n",
    "\n",
    "# Iterate through the files and extract the numbers\n",
    "for filename in files:\n",
    "    match = re.match(pattern, filename)\n",
    "    if match:\n",
    "        value = match.group(1)\n",
    "        formatted_asteroid_numbers.append(value)"
   ]
  },
  {
   "cell_type": "code",
   "execution_count": null,
   "id": "bc41e6c3-ab41-4124-8ab9-0b8bdd5362bd",
   "metadata": {},
   "outputs": [],
   "source": [
    "df = df[~df['id'].isin(formatted_asteroid_numbers)]"
   ]
  },
  {
   "cell_type": "code",
   "execution_count": null,
   "id": "cbf31ae3-fb17-4662-b95b-6733fe1214e8",
   "metadata": {},
   "outputs": [],
   "source": [
    "# This objects are not in Horizons system\n",
    "df = df[(df['id'] != '2002 TN365') & (df['id'] != '2002 UB67') & (df['id'] != '2002 UZ67') & (df['id'] != '2005 VL128')] "
   ]
  },
  {
   "cell_type": "code",
   "execution_count": null,
   "id": "37272727-407c-45fc-9ae3-ac2220118dd1",
   "metadata": {},
   "outputs": [],
   "source": [
    "df = df.sort_values(by=['id'])"
   ]
  },
  {
   "cell_type": "code",
   "execution_count": null,
   "id": "a5e53dd0-31d5-4491-b986-37aa632b8aea",
   "metadata": {},
   "outputs": [],
   "source": [
    "# Each magnitude has its column but we need only one magnitude column, then we use another column to specify the filter\n",
    "df_1 = df[['id', 'MJD', 'u', 'err_u', 'r', 'delta', 'alpha']]\n",
    "df_2 = df[['id', 'MJD', 'g', 'err_g', 'r', 'delta', 'alpha']]\n",
    "df_3 = df[['id', 'MJD', 'r-mag', 'err_r', 'r', 'delta', 'alpha']]\n",
    "df_4 = df[['id', 'MJD', 'i', 'err_i', 'r', 'delta', 'alpha']]\n",
    "df_5 = df[['id', 'MJD', 'z', 'err_z', 'r', 'delta', 'alpha']]"
   ]
  },
  {
   "cell_type": "code",
   "execution_count": null,
   "id": "949c347b-3caa-4b6d-ae8f-e309fb101c21",
   "metadata": {},
   "outputs": [],
   "source": [
    "# Fix column names and adding the filter column\n",
    "df_1 = df_1.rename(columns={'u':'m', 'err_u': 'err_m'})\n",
    "df_1.insert(7, 'Filter', 'u')\n",
    "\n",
    "df_2 = df_2.rename(columns={'g':'m', 'err_g': 'err_m'})\n",
    "df_2.insert(7, 'Filter', 'g')\n",
    "\n",
    "df_3 = df_3.rename(columns={'r-mag':'m', 'err_r': 'err_m'})\n",
    "df_3.insert(7, 'Filter', 'r')\n",
    "\n",
    "df_4 = df_4.rename(columns={'i':'m', 'err_i': 'err_m'})\n",
    "df_4.insert(7, 'Filter', 'i')\n",
    "\n",
    "df_5 = df_5.rename(columns={'z':'m', 'err_z': 'err_m'})\n",
    "df_5.insert(7, 'Filter', 'z')"
   ]
  },
  {
   "cell_type": "code",
   "execution_count": null,
   "id": "40f1fceb-886d-4054-bfc9-9e61565c7cce",
   "metadata": {},
   "outputs": [],
   "source": [
    "# Merge everything\n",
    "pdList = [df_1, df_2, df_3, df_4, df_5]  # List of your dataframes\n",
    "df = pd.concat(pdList)"
   ]
  },
  {
   "cell_type": "code",
   "execution_count": null,
   "id": "cca14ac7-23fb-493c-89c4-485579fb5492",
   "metadata": {},
   "outputs": [],
   "source": [
    "df = df.sort_values(by='id')"
   ]
  },
  {
   "cell_type": "code",
   "execution_count": null,
   "id": "16d72fbf-4058-4944-b27d-9432bc1be26e",
   "metadata": {},
   "outputs": [],
   "source": [
    "df = df.rename(columns={'id':'idAsteroid'})"
   ]
  },
  {
   "cell_type": "code",
   "execution_count": null,
   "id": "f2ee72f9-2a51-4f57-90a3-9af4e2391530",
   "metadata": {},
   "outputs": [],
   "source": [
    "df = df[['idAsteroid', 'MJD', 'm', 'err_m', 'alpha','Filter', 'delta', 'r']]"
   ]
  },
  {
   "cell_type": "code",
   "execution_count": null,
   "id": "17bc2544-c54b-4893-bfc2-7907500899ce",
   "metadata": {},
   "outputs": [],
   "source": [
    "# We need to perform some calculations to obtain the desired format for the table.\n",
    "\n",
    "# Compute reduced magnitude\n",
    "m_red = df['m'] - 5*np.log10(df['r']*df['delta'])\n",
    "m_red = m_red.to_numpy()\n",
    "df.insert(5, \"m_red\", m_red, True)\n",
    "# ----------------------------------------------------------------------------------------------------------------------\n",
    "# Compute flux\n",
    "flux = 10**(-0.4*df.m)\n",
    "flux = flux.to_numpy()\n",
    "df.insert(4, \"flux\", flux, True)\n",
    "e_flux = 0.4*10**(-0.4*df.m)*df.err_m\n",
    "df.insert(5, \"err_flux\", e_flux, True)\n",
    "# ----------------------------------------------------------------------------------------------------------------------\n",
    "# Compute JD\n",
    "jd = df['MJD'] + 2400000.5\n",
    "df.insert(2, \"jd\", jd, True)\n",
    "# ----------------------------------------------------------------------------------------------------------------------\n",
    "#Add ephemeris columns\n",
    "#df.insert(1, 'Desig', '')\n",
    "df.insert(6, 'ElongFlag', '')\n",
    "# ----------------------------------------------------------------------------------------------------------------------\n",
    "#Add constant columns\n",
    "df.insert(7, 'Source', 'SDSS')\n",
    "df.insert(8, 'TypePhotometry', 'relative')\n",
    "df.insert(9, 'LTcorrected', 1)\n",
    "# ----------------------------------------------------------------------------------------------------------------------"
   ]
  },
  {
   "cell_type": "markdown",
   "id": "b76cf576-7024-4100-840a-38f4a7a9d2b0",
   "metadata": {},
   "source": [
    "## Splitting dataframe"
   ]
  },
  {
   "cell_type": "markdown",
   "id": "4ca09e30-4e7b-482d-93d7-9f772047795b",
   "metadata": {},
   "source": [
    "We have a dataframe with all the asteroids. For the ephemeris step, we need to proceed asteroid by asteroid."
   ]
  },
  {
   "cell_type": "code",
   "execution_count": null,
   "id": "25895723-0ae2-4ace-948e-de4a60fdcd28",
   "metadata": {},
   "outputs": [],
   "source": [
    "# Splitting dataframes\n",
    "df = df[['idAsteroid', 'jd', 'm', 'err_m', 'flux', 'err_flux', 'm_red','Filter', 'alpha', 'delta', 'r', 'ElongFlag', 'Source', 'TypePhotometry', 'LTcorrected']]\n",
    "sample = df\n",
    "ids_sample = sample['idAsteroid'].drop_duplicates()\n",
    "ids_sample = ids_sample.to_numpy()\n",
    "len = ids_sample.size\n",
    "print('Splitting...')\n",
    "# Function to split DataFrame based on the changing value in the 'target_column'\n",
    "def split_dataframe_on_value_change(df, column_name):\n",
    "    df_list = []\n",
    "    prev_value = None\n",
    "    temp_df = None\n",
    "\n",
    "    for index, row in df.iterrows():\n",
    "        current_value = row[column_name]\n",
    "\n",
    "        if prev_value is None or current_value != prev_value:\n",
    "            if temp_df is not None:\n",
    "                df_list.append(temp_df)\n",
    "            temp_df = pd.DataFrame(columns=df.columns)\n",
    "\n",
    "        temp_df = pd.concat([temp_df, row.to_frame().T], ignore_index=True)\n",
    "        prev_value = current_value\n",
    "\n",
    "    if temp_df is not None:\n",
    "        df_list.append(temp_df)\n",
    "\n",
    "    return df_list\n",
    "# Split the DataFrame based on the changing value in the 'target_column'\n",
    "resulting_dataframes = split_dataframe_on_value_change(sample, 'idAsteroid')\n",
    "# ----------------------------------------------------------------------------------------------------------------------\n",
    "print('Splitted')"
   ]
  },
  {
   "cell_type": "markdown",
   "id": "16e97959-a5b7-492f-aa49-1e1f633c65d4",
   "metadata": {},
   "source": [
    "## Ephemeris"
   ]
  },
  {
   "cell_type": "code",
   "execution_count": null,
   "id": "7edf2232-cac9-4a18-adcc-6a27a962743a",
   "metadata": {},
   "outputs": [],
   "source": [
    "# Ephemeris\n",
    "for idx, df in enumerate(resulting_dataframes):\n",
    "    ids = df['idAsteroid'].drop_duplicates().to_numpy()[0]\n",
    "    jd = df['jd'].to_numpy()\n",
    "\n",
    "    # For many asteroids we have 5 observations (one per filter) with the same Julian Date. Horizons can't work with that.\n",
    "    # So, we split this step in two: for only one observation and for many observations\n",
    "    \n",
    "    if jd.size == 1:\n",
    "\n",
    "        #Ephemeris query\n",
    "        e_obj = Horizons(id=ids, location='645', epochs=jd, id_type='smallbody') # Julian date in UTC for ephemerides\n",
    "        eph = e_obj.ephemerides()\n",
    "        elong_flag = eph.columns['elongFlag']\n",
    "\n",
    "        #Vectors query\n",
    "        jd_tdb = Time(jd.tolist(), format='jd', scale='utc').tdb.value\n",
    "        v_obj = Horizons(id=ids, location='645', epochs=jd_tdb, id_type='smallbody') # Julian date in TDB for vectors\n",
    "        vec = v_obj.vectors()\n",
    "        x_obs = vec.columns['x']\n",
    "        y_obs = vec.columns['y']\n",
    "        z_obs = vec.columns['z']\n",
    "        LT_obs = vec.columns['lighttime']\n",
    "\n",
    "        #Query Sun-----------------------------------------\n",
    "        obj_sun = Horizons(id=ids, location='500@10',\n",
    "                epochs=jd_tdb, id_type='smallbody')\n",
    "        vec_sun = obj_sun.vectors()\n",
    "        x_sun = vec_sun.columns['x']\n",
    "        y_sun = vec_sun.columns['y']\n",
    "        z_sun = vec_sun.columns['z']  \n",
    "\n",
    "        #Put in dataframe\n",
    "        #df.loc[idx,'Desig'] = desig[0]\n",
    "        df['ElongFlag'] = elong_flag\n",
    "        df['x_obs'] = x_obs\n",
    "        df['y_obs'] = y_obs\n",
    "        df['z_obs'] = z_obs\n",
    "        df['x_sun'] = x_sun\n",
    "        df['y_sun'] = y_sun\n",
    "        df['z_sun'] = z_sun\n",
    "        df['LT_obs'] = LT_obs\n",
    "        \n",
    "        df.to_csv('/home/milagros/Documents/SDSS-files/SDSS-asteroid'+str(ids)+'.csv', index=False)       \n",
    "        del obj\n",
    "        del eph\n",
    "        del obj_sun\n",
    "        del vec_sun\n",
    "        gc.collect()\n",
    "        print(ids, 'small done')\n",
    "        \n",
    "    else:\n",
    "        split_dataframes = np.array_split(df, jd.size)\n",
    "        calculated_dataframes = []\n",
    "        for i in split_dataframes:\n",
    "\n",
    "            #Ephemeris query\n",
    "            e_obj = Horizons(id=ids, location='645',epochs=i.jd_tdb.to_numpy(), id_type='smallbody')\n",
    "            eph = e_obj.ephemerides()\n",
    "            elong_flag = eph.columns['elongFlag']\n",
    "            \n",
    "            #Vectors query\n",
    "            jd_tdb = Time(i.jd.tolist(), format='jd', scale='utc').tdb.value\n",
    "            v_obj = Horizons(id=ids, location='645',epochs=jd_tdb, id_type='smallbody')\n",
    "            vec = v_obj.vectors()\n",
    "            x_obs = vec.columns['x']\n",
    "            y_obs = vec.columns['y']\n",
    "            z_obs = vec.columns['z']\n",
    "            LT_obs = vec.columns['lighttime']\n",
    "            \n",
    "            #Query Sun-----------------------------------------\n",
    "            obj_sun = Horizons(id=ids, location='500@10',epochs=jd_tdb, id_type='smallbody')\n",
    "            vec_sun = obj_sun.vectors()\n",
    "            x_sun = vec_sun.columns['x']\n",
    "            y_sun = vec_sun.columns['y']\n",
    "            z_sun = vec_sun.columns['z']\n",
    "            \n",
    "            i['ElongFlag'] = elong_flag\n",
    "            i['x_obs'] = x_obs\n",
    "            i['y_obs'] = y_obs\n",
    "            i['z_obs'] = z_obs\n",
    "            i['x_sun'] = x_sun\n",
    "            i['y_sun'] = y_sun\n",
    "            i['z_sun'] = z_sun\n",
    "            i['LT_obs'] = LT_obs\n",
    "\n",
    "            calculated_dataframes.append(i)\n",
    "            \n",
    "        merged_df = pd.concat(calculated_dataframes, ignore_index=True)\n",
    "        \n",
    "        merged_df['ElongFlag'] = merged_df['ElongFlag'].to_numpy()\n",
    "        merged_df['x_obs'] = merged_df['x_obs'].to_numpy()\n",
    "        merged_df['y_obs'] = merged_df['y_obs'].to_numpy()\n",
    "        merged_df['z_obs'] = merged_df['z_obs'].to_numpy()\n",
    "        merged_df['x_sun'] = merged_df['x_sun'].to_numpy()\n",
    "        merged_df['y_sun'] = merged_df['y_sun'].to_numpy()\n",
    "        merged_df['z_sun'] = merged_df['z_sun'].to_numpy()\n",
    "        merged_df['LT_obs'] = merged_df['LT_obs'].to_numpy()\n",
    "        \n",
    "        merged_df.to_csv('/home/milagros/Documents/SDSS-files/SDSS-asteroid'+str(ids)+'.csv', index=False)\n",
    "        print(ids, 'big done')\n",
    "        del obj\n",
    "        del eph\n",
    "        del obj_sun\n",
    "        del vec_sun\n",
    "        gc.collect()\n",
    "        \n",
    "print('Done')"
   ]
  },
  {
   "cell_type": "markdown",
   "id": "58163e28-daa3-48f1-815b-3a62d82c4418",
   "metadata": {},
   "source": [
    "The end :)"
   ]
  }
 ],
 "metadata": {
  "kernelspec": {
   "display_name": "Python 3 (ipykernel)",
   "language": "python",
   "name": "python3"
  },
  "language_info": {
   "codemirror_mode": {
    "name": "ipython",
    "version": 3
   },
   "file_extension": ".py",
   "mimetype": "text/x-python",
   "name": "python",
   "nbconvert_exporter": "python",
   "pygments_lexer": "ipython3",
   "version": "3.11.2"
  }
 },
 "nbformat": 4,
 "nbformat_minor": 5
}
