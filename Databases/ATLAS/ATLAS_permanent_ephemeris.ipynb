{
 "cells": [
  {
   "cell_type": "markdown",
   "id": "86bdd80f-ccf6-460e-bd8f-4df97f5ee64f",
   "metadata": {},
   "source": [
    "### Import the libraries"
   ]
  },
  {
   "cell_type": "code",
   "execution_count": null,
   "id": "29bda1d2-c708-4266-b1ab-a0e55954a545",
   "metadata": {},
   "outputs": [],
   "source": [
    "from astropy.time import Time\n",
    "from astroquery.jplhorizons import Horizons\n",
    "\n",
    "import matplotlib.pyplot as plt\n",
    "import numpy as np\n",
    "import os\n",
    "import pandas as pd\n",
    "import re\n",
    "import requests\n",
    "import time"
   ]
  },
  {
   "cell_type": "markdown",
   "id": "2818d0e4-b8b7-4f65-bd5f-7959fb36ac1b",
   "metadata": {},
   "source": [
    "### Avoid repeating asteorids"
   ]
  },
  {
   "cell_type": "markdown",
   "id": "bcd38770-cea5-483c-b9d9-4628aa05fdab",
   "metadata": {},
   "source": [
    "Sometimes, during the Horizons query, some problems may appear. For example, bad internet connection. If we restart the code,\n",
    "we don't want to repeat the process for asteroids that already have a .csv file. This part of the code prevent that."
   ]
  },
  {
   "cell_type": "code",
   "execution_count": null,
   "id": "b22d3693-df22-4ead-b45e-ca7c3f1abbb3",
   "metadata": {},
   "outputs": [],
   "source": [
    "#EXTRA\n",
    "#Specify the folder path where your CSV files are located\n",
    "folder_path = '/home/milagros/Documents/run-3bis'\n",
    "\n",
    "# Initialize an empty list to store the formatted asteroid numbers\n",
    "formatted_asteroid_numbers = []\n",
    "\n",
    "# Define a regular expression pattern to match the filenames\n",
    "pattern = r'ATLAS-asteroid(\\d+)\\.csv'\n",
    "\n",
    "# List all files in the folder\n",
    "files = os.listdir(folder_path)\n",
    "\n",
    "# Iterate through the files and extract the numbers\n",
    "for filename in files:\n",
    "    match = re.match(pattern, filename)\n",
    "    if match:\n",
    "        # Extract the digits from the matched pattern\n",
    "        number = match.group(1)\n",
    "        \n",
    "        # Ensure a length of 5 with leading zeros\n",
    "        formatted_number = number.zfill(6)\n",
    "        \n",
    "        formatted_asteroid_numbers.append(formatted_number)"
   ]
  },
  {
   "cell_type": "markdown",
   "id": "9635085c-6ee1-45be-b256-4f11f989c6eb",
   "metadata": {},
   "source": [
    "### Read the catalog"
   ]
  },
  {
   "cell_type": "code",
   "execution_count": null,
   "id": "3a314314-1d9f-477b-95b1-9929955b7c39",
   "metadata": {},
   "outputs": [],
   "source": [
    "# Dataframe\n",
    "df = pd.read_table('atlas-sscat.v1.0.dat', skiprows=15520305, nrows=7759205, header=None, delimiter=' ', dtype={15: 'string'},\n",
    "                   usecols=[0,2,3,4,7,8,9,15])\n",
    "df = df.rename(columns={0:'MJD', 2:'err_m', 3:'Filter', 4:'m', 7:'delta',\n",
    "                  8:'r', 9:'alpha', 15:'idAsteroid'})\n",
    "df = df[df[\"idAsteroid\"].str.contains(\"[a-zA-Z]\") == True] # Here we select only asteroids with packed designations\n",
    "df = df[['idAsteroid', 'MJD', 'm', 'err_m', 'alpha','Filter', 'delta', 'r']]"
   ]
  },
  {
   "cell_type": "markdown",
   "id": "a0d96fdd-bf9c-49d5-aaaf-44e52361630c",
   "metadata": {},
   "source": [
    "### Distinguish between permanent packed designation and provisional packed designation"
   ]
  },
  {
   "cell_type": "code",
   "execution_count": null,
   "id": "103d355b-1bb4-4ab4-8616-49d3a07cf816",
   "metadata": {},
   "outputs": [],
   "source": [
    "def unpack_packed_designation(packed_des):\n",
    "    \"\"\"\n",
    "    Unpacks a packed permanent designation as described in\n",
    "    https://www.minorplanetcenter.net/iau/info/PackedDes.html\n",
    "\n",
    "    Args:\n",
    "        packed_des (str): Packed permanent designation.\n",
    "\n",
    "    Returns:\n",
    "        str: Unpacked permanent designation.\n",
    "    \"\"\"\n",
    "    # Check if the packed designation meets the criteria\n",
    "    if len(packed_des) == 5 and not packed_des.isnumeric() and packed_des[1:].isnumeric():\n",
    "        # Extract components\n",
    "        number = int(packed_des[1:])\n",
    "        first_char = packed_des[0]\n",
    "\n",
    "        # Convert first character to a numeric value\n",
    "        if first_char.islower():\n",
    "            first_val = ord(first_char) - ord('a') + 36\n",
    "        elif first_char.isupper():\n",
    "            first_val = ord(first_char) - ord('A') + 10\n",
    "        else:\n",
    "            # Handle the case when the first character isn't alphanumeric\n",
    "            raise ValueError(\"Invalid first character in packed designation\")\n",
    "\n",
    "        # Calculate the unpacked number\n",
    "        unpacked_number = number + first_val * 10000\n",
    "\n",
    "        return str(unpacked_number)\n",
    "\n",
    "    else:\n",
    "        # Handle the case when the packed designation doesn't meet the criteria\n",
    "        invalid_packed_designations.append(packed_des)\n",
    "        return (np.nan)"
   ]
  },
  {
   "cell_type": "code",
   "execution_count": null,
   "id": "256b9c86-ab68-489b-870f-c5f0059d2f89",
   "metadata": {},
   "outputs": [],
   "source": [
    "# Here we make a list of provisional packed designations and comets and delete them from the dataframe\n",
    "invalid_packed_designations = []\n",
    "df['idAsteroid'] = df['idAsteroid'].apply(unpack_packed_designation)\n",
    "mylist = list(dict.fromkeys(invalid_packed_designations))\n",
    "df = df.dropna()"
   ]
  },
  {
   "cell_type": "code",
   "execution_count": null,
   "id": "023b88b0-3b45-4f2f-883f-cfe1ab995651",
   "metadata": {},
   "outputs": [],
   "source": [
    "df = df[~df['idAsteroid'].isin(formatted_asteroid_numbers)]"
   ]
  },
  {
   "cell_type": "code",
   "execution_count": null,
   "id": "b69831a0-735f-4952-a821-0a3e5cb3aadb",
   "metadata": {},
   "outputs": [],
   "source": [
    "# We need to perform some calculations in order to obtain the desired format for the table.\n",
    "\n",
    "# Compute reduced magnitude\n",
    "m_red = df['m'] - 2.5*np.log10(df['r']*df['delta'])\n",
    "m_red = m_red.to_numpy()\n",
    "df.insert(5, \"m_red\", m_red, True)\n",
    "\n",
    "# Compute flux\n",
    "flux = 10**(-0.4*df.m)\n",
    "flux = flux.to_numpy()\n",
    "df.insert(4, \"flux\", flux, True)\n",
    "e_flux = 0.4*10**(-0.4*df.m)*df.err_m\n",
    "df.insert(5, \"err_flux\", e_flux, True)\n",
    "\n",
    "# Compute JD\n",
    "jd = df['MJD'] + 2400000.5\n",
    "df.insert(2, \"jd\", jd, True)\n",
    "\n",
    "#Add ephemeris columns\n",
    "#df.insert(1, 'Desig', '')\n",
    "df.insert(6, 'ElongFlag', '')\n",
    "\n",
    "#Add constant columns\n",
    "df.insert(7, 'Source', 'ATLAS')\n",
    "df.insert(8, 'TypePhotometry', 'relative')\n",
    "df.insert(9, 'LTcorrected', 1)\n",
    "# -----------------------------------------------------"
   ]
  },
  {
   "cell_type": "markdown",
   "id": "f4ec6bef-6142-48e4-93d4-b58cb0c3f16d",
   "metadata": {},
   "source": [
    "### Splitting dataframe"
   ]
  },
  {
   "cell_type": "markdown",
   "id": "8f94c2b2-76d0-4a69-8c4c-390822c9dd4b",
   "metadata": {},
   "source": [
    "We have a dataframe with all the asteroids. For the ephemeris step, we need to proceed asteroid by asteroid."
   ]
  },
  {
   "cell_type": "code",
   "execution_count": null,
   "id": "bc72b619-6a29-41da-a3fe-f1d3d06a6b5c",
   "metadata": {},
   "outputs": [],
   "source": [
    "# Splitting dataframes\n",
    "df = df[['idAsteroid', 'jd', 'm', 'err_m', 'flux', 'err_flux', 'm_red','Filter', 'alpha', 'delta', 'r', 'ElongFlag', 'Source', 'TypePhotometry', 'LTcorrected']]\n",
    "sample = df\n",
    "ids_sample = sample['idAsteroid'].drop_duplicates()\n",
    "ids_sample = ids_sample.to_numpy()\n",
    "num_ids = ids_sample.size  # Rename 'len' to 'num_ids'\n",
    "print('Splitting...')\n",
    "\n",
    "# Function to split DataFrame based on the changing value in the 'target_column'\n",
    "def split_dataframe_on_value_change(df, column_name):\n",
    "    df_list = []\n",
    "    prev_value = None\n",
    "    temp_df = None\n",
    "\n",
    "    for index, row in df.iterrows():\n",
    "        current_value = row[column_name]\n",
    "\n",
    "        if prev_value is None or current_value != prev_value:\n",
    "            if temp_df is not None:\n",
    "                df_list.append(temp_df)\n",
    "            temp_df = pd.DataFrame(columns=df.columns)\n",
    "\n",
    "        temp_df = pd.concat([temp_df, row.to_frame().T], ignore_index=True)\n",
    "        prev_value = current_value\n",
    "\n",
    "    if temp_df is not None:\n",
    "        df_list.append(temp_df)\n",
    "\n",
    "    return df_list\n",
    "\n",
    "# Split the DataFrame based on the changing value in the 'target_column'\n",
    "resulting_dataframes = split_dataframe_on_value_change(sample, 'idAsteroid')\n",
    "print('Splitted')"
   ]
  },
  {
   "cell_type": "markdown",
   "id": "2aa05002-d421-4d8e-ac89-982f8af9124c",
   "metadata": {},
   "source": [
    "### Ephemeris"
   ]
  },
  {
   "cell_type": "code",
   "execution_count": null,
   "id": "5a9ba6ab-5ced-4d28-9e65-cdba8c49a878",
   "metadata": {},
   "outputs": [],
   "source": [
    "# Ephemeris\n",
    "for idx, df in enumerate(resulting_dataframes):\n",
    "    ids = df['idAsteroid'].drop_duplicates().to_numpy()[0]\n",
    "    jd = df['jd'].to_numpy()\n",
    "\n",
    "    # If the list we pass to Horizons contains more than 50 elements, it throws an error.\n",
    "    if jd.size <= 50:\n",
    "        obj = Horizons(id=ids, location='399',\n",
    "                epochs=jd, id_type='smallbody')\n",
    "\n",
    "        #Ephemeris query\n",
    "        eph = obj.ephemerides()\n",
    "        elong_flag = eph.columns['elongFlag']\n",
    "\n",
    "        #Vectors query\n",
    "        vec = obj.vectors()\n",
    "        x_obs = vec.columns['x']\n",
    "        y_obs = vec.columns['y']\n",
    "        z_obs = vec.columns['z']\n",
    "        LT_obs = vec.columns['lighttime']\n",
    "\n",
    "        #Query Sun-----------------------------------------\n",
    "        jd_tdb = Time(jd.tolist(), format='jd', scale='utc').tdb.value\n",
    "        obj_sun = Horizons(id=ids, location='500@10',\n",
    "                epochs=jd_tdb, id_type='smallbody')\n",
    "        vec_sun = obj.vectors()\n",
    "        x_sun = vec_sun.columns['x']\n",
    "        y_sun = vec_sun.columns['y']\n",
    "        z_sun = vec_sun.columns['z']  \n",
    "\n",
    "        #Put in dataframe\n",
    "\n",
    "        df['ElongFlag'] = elong_flag\n",
    "        df['x_obs'] = x_obs\n",
    "        df['y_obs'] = y_obs\n",
    "        df['z_obs'] = z_obs\n",
    "        df['x_sun'] = x_sun\n",
    "        df['y_sun'] = y_sun\n",
    "        df['z_sun'] = z_sun\n",
    "        df['LT_obs'] = LT_obs\n",
    "        \n",
    "        df.to_csv('/home/milagros/Documents/run-3bis/ATLAS-asteroid'+str(ids)+'.csv', index=False) \n",
    "        \n",
    "        del obj\n",
    "        del eph\n",
    "        del obj_sun\n",
    "        del vec_sun\n",
    "        gc.collect()\n",
    "        print(ids, 'small done')\n",
    "\n",
    "    # To process lists of more than 50 elements, we split the dataframe and work part by part. At the end we merge everything into a single table.\n",
    "    else:\n",
    "        split_dataframes = np.array_split(df, 24)\n",
    "        calculated_dataframes = []\n",
    "        for i in split_dataframes:\n",
    "            obj = Horizons(id=ids, location='399',epochs=i.jd.to_numpy(), id_type='smallbody')\n",
    "            #Ephemeris query\n",
    "            eph = obj.ephemerides()\n",
    "            elong_flag = eph.columns['elongFlag']\n",
    "            #Vectors query\n",
    "            vec = obj.vectors()\n",
    "            x_obs = vec.columns['x']\n",
    "            y_obs = vec.columns['y']\n",
    "            z_obs = vec.columns['z']\n",
    "            LT_obs = vec.columns['lighttime']\n",
    "            \n",
    "            #Query Sun-----------------------------------------\n",
    "            jd_tdb = Time(i.jd.tolist(), format='jd', scale='utc').tdb.value\n",
    "            obj_sun = Horizons(id=ids, location='500@10',epochs=jd_tdb, id_type='smallbody')\n",
    "            vec_sun = obj.vectors()\n",
    "            x_sun = vec_sun.columns['x']\n",
    "            y_sun = vec_sun.columns['y']\n",
    "            z_sun = vec_sun.columns['z']\n",
    "            \n",
    "            i['ElongFlag'] = elong_flag\n",
    "            i['x_obs'] = x_obs\n",
    "            i['y_obs'] = y_obs\n",
    "            i['z_obs'] = z_obs\n",
    "            i['x_sun'] = x_sun\n",
    "            i['y_sun'] = y_sun\n",
    "            i['z_sun'] = z_sun\n",
    "            i['LT_obs'] = LT_obs\n",
    "\n",
    "            calculated_dataframes.append(i)\n",
    "            del obj\n",
    "            del eph\n",
    "            del obj_sun\n",
    "            del vec_sun\n",
    "            \n",
    "        merged_df = pd.concat(calculated_dataframes, ignore_index=True)\n",
    "        \n",
    "        merged_df['ElongFlag'] = merged_df['ElongFlag'].to_numpy()\n",
    "        merged_df['x_obs'] = merged_df['x_obs'].to_numpy()\n",
    "        merged_df['y_obs'] = merged_df['y_obs'].to_numpy()\n",
    "        merged_df['z_obs'] = merged_df['z_obs'].to_numpy()\n",
    "        merged_df['x_sun'] = merged_df['x_sun'].to_numpy()\n",
    "        merged_df['y_sun'] = merged_df['y_sun'].to_numpy()\n",
    "        merged_df['z_sun'] = merged_df['z_sun'].to_numpy()\n",
    "        merged_df['LT_obs'] = merged_df['LT_obs'].to_numpy()\n",
    "        \n",
    "        merged_df.to_csv('/home/milagros/Documents/run-3bis/ATLAS-asteroid'+str(ids)+'.csv', index=False)\n",
    "        print(ids, 'big done')\n",
    "    \n",
    "        gc.collect()\n",
    "\n",
    "print('Done')"
   ]
  },
  {
   "cell_type": "markdown",
   "id": "4a332dce-5355-4d3f-81f5-d9ba90e064b0",
   "metadata": {},
   "source": [
    "The end :)"
   ]
  }
 ],
 "metadata": {
  "kernelspec": {
   "display_name": "Python 3 (ipykernel)",
   "language": "python",
   "name": "python3"
  },
  "language_info": {
   "codemirror_mode": {
    "name": "ipython",
    "version": 3
   },
   "file_extension": ".py",
   "mimetype": "text/x-python",
   "name": "python",
   "nbconvert_exporter": "python",
   "pygments_lexer": "ipython3",
   "version": "3.11.2"
  }
 },
 "nbformat": 4,
 "nbformat_minor": 5
}
