{
 "cells": [
  {
   "cell_type": "markdown",
   "id": "35f0defa-18c8-45b3-971a-31627275915c",
   "metadata": {},
   "source": [
    "### Import the libraries"
   ]
  },
  {
   "cell_type": "code",
   "execution_count": null,
   "id": "312d0c76-786d-4655-978e-ab7e4a3c3876",
   "metadata": {},
   "outputs": [],
   "source": [
    "from astropy.time import Time\n",
    "from astroquery.jplhorizons import Horizons\n",
    "\n",
    "import matplotlib.pyplot as plt\n",
    "import numpy as np\n",
    "import os\n",
    "import pandas as pd\n",
    "import re\n",
    "import requests\n",
    "import time"
   ]
  },
  {
   "cell_type": "code",
   "execution_count": null,
   "id": "a6854064-dc09-455e-bbe7-cc42e7823b0e",
   "metadata": {},
   "outputs": [],
   "source": [
    "# Ignore the warnings\n",
    "import warnings\n",
    "warnings.filterwarnings(\"ignore\")"
   ]
  },
  {
   "cell_type": "markdown",
   "id": "186a4c41-768e-41fd-be4d-ed2cdbfb7090",
   "metadata": {},
   "source": [
    "_________________________________________________________"
   ]
  },
  {
   "cell_type": "markdown",
   "id": "69756509-3cb7-42bb-8798-242def979f30",
   "metadata": {},
   "source": [
    "### Read the catalog"
   ]
  },
  {
   "cell_type": "code",
   "execution_count": null,
   "id": "6b3080ca-ae94-4768-b077-f9695e963507",
   "metadata": {},
   "outputs": [],
   "source": [
    "df = pd.read_csv('GaiaDR3-result.csv', dtype={'number_mp': 'int'})"
   ]
  },
  {
   "cell_type": "code",
   "execution_count": null,
   "id": "b750e2d7-fac2-4238-a2f2-2f61453acfb7",
   "metadata": {},
   "outputs": [],
   "source": [
    "# This catalog has many lines with jd values but empty magnitudes. We don't need them.\n",
    "df = df.dropna()"
   ]
  },
  {
   "cell_type": "markdown",
   "id": "9e8ec175-b448-4b50-82a5-f613e4ebedac",
   "metadata": {},
   "source": [
    "### List of designations"
   ]
  },
  {
   "cell_type": "code",
   "execution_count": null,
   "id": "3ad78511-d492-4048-9a8d-298ab6140b73",
   "metadata": {},
   "outputs": [],
   "source": [
    "ids = df['number_mp'].drop_duplicates().to_numpy()"
   ]
  },
  {
   "cell_type": "code",
   "execution_count": null,
   "id": "c6c8d51b-9c3e-453b-9171-194a40399e89",
   "metadata": {},
   "outputs": [],
   "source": [
    "len(ids)"
   ]
  },
  {
   "cell_type": "markdown",
   "id": "03775b8b-c148-46e6-af7e-d39e7cffce86",
   "metadata": {},
   "source": [
    "### Avoid repeating asteorids"
   ]
  },
  {
   "cell_type": "code",
   "execution_count": null,
   "id": "7a29c63a-c741-4d4e-a4ce-1e7e7073e2cb",
   "metadata": {},
   "outputs": [],
   "source": [
    "# # Specify the folder path where your CSV files are located\n",
    "folder_path = '/home/milagros/Documents/Gaia-files'\n",
    "\n",
    "# # Initialize an empty list to store the formatted asteroid numbers\n",
    "formatted_asteroid_numbers = []\n",
    "\n",
    "# # Define a regular expression pattern to match the filenames\n",
    "pattern = r'GAIADR2-asteroid(\\d+)\\.csv'\n",
    "\n",
    "# # List all files in the folder\n",
    "files = os.listdir(folder_path)\n",
    "\n",
    "# # Iterate through the files and extract the numbers\n",
    "for filename in files:\n",
    "    match = re.match(pattern, filename)\n",
    "    if match:\n",
    "        number = int(match.group(1))\n",
    "       \n",
    "        formatted_asteroid_numbers.append(number)"
   ]
  },
  {
   "cell_type": "code",
   "execution_count": null,
   "id": "34aefa2a-507f-47eb-83bd-e7165ca2f106",
   "metadata": {},
   "outputs": [],
   "source": [
    "df = df[~df['number_mp'].isin(formatted_asteroid_numbers)]"
   ]
  },
  {
   "cell_type": "markdown",
   "id": "d5060048-8acb-46ea-8dce-74c53aca36d7",
   "metadata": {},
   "source": [
    "### Dataframe"
   ]
  },
  {
   "cell_type": "code",
   "execution_count": null,
   "id": "7d3c191c-f39c-4c54-b08f-cb29c2018635",
   "metadata": {},
   "outputs": [],
   "source": [
    "# We need to perform some calculations in order to obtain the desired format for the table.\n",
    "\n",
    "jd = df['epoch_utc']+2455197.5\n",
    "df.insert(2, \"jd\", jd, True)\n",
    "\n",
    "m = -2.5*np.log10(df['g_flux']) + 25.6884\n",
    "df.insert(3, \"m\", m, True)\n",
    "\n",
    "err_m = np.sqrt((-2.5*(1/np.log(10))*(df['g_flux_error']/df['g_flux']))**2 + (0.0018)**2)\n",
    "df.insert(4, \"err_m\", err_m, True)"
   ]
  },
  {
   "cell_type": "code",
   "execution_count": null,
   "id": "d49b09dc-f264-4ac6-8e45-b2642fc38032",
   "metadata": {},
   "outputs": [],
   "source": [
    "df = df.rename(columns={'number_mp':'idAsteroid', 'g_flux':'flux', 'g_flux_error':'err_flux'})"
   ]
  },
  {
   "cell_type": "code",
   "execution_count": null,
   "id": "fa9f36b4-d902-47b9-bea6-856e695c2a1b",
   "metadata": {},
   "outputs": [],
   "source": [
    "df = df[['idAsteroid', 'jd', 'flux', 'err_flux', 'm', 'err_m']]"
   ]
  },
  {
   "cell_type": "code",
   "execution_count": null,
   "id": "c014247a-3d46-4697-ac46-b2d071c4f9d5",
   "metadata": {},
   "outputs": [],
   "source": [
    "# ----------------------------------------------------------------------------------------------------------------------\n",
    "#Add constant columns\n",
    "df.insert(6, 'Source', 'Gaia')\n",
    "df.insert(7, 'TypePhotometry', 'relative')\n",
    "df.insert(8, 'LTcorrected', '0')\n",
    "df.insert(9, 'Filter', 'G')\n",
    "# ----------------------------------------------------------------------------------------------------------------------\n",
    "#Add ephemeris columns\n",
    "df.insert(10, 'ElongFlag', '')\n",
    "df.insert(11, 'alpha', '')\n",
    "df.insert(12, 'r', '')\n",
    "df.insert(13, 'delta', '')\n",
    "df.insert(14, 'x_obs', '')\n",
    "df.insert(15, 'y_obs', '')\n",
    "df.insert(16, 'z_obs', '')\n",
    "df.insert(17, 'x_sun', '')\n",
    "df.insert(18, 'y_sun', '')\n",
    "df.insert(19, 'z_sun', '')\n",
    "df.insert(20, 'LT_obs', '')"
   ]
  },
  {
   "cell_type": "markdown",
   "id": "73ed8476-8fb0-4b2b-9de2-ffa74eba1b11",
   "metadata": {},
   "source": [
    "_______________________________________________________________________-"
   ]
  },
  {
   "cell_type": "markdown",
   "id": "e4b96421-6491-46e7-9fb9-0af93ebc69b7",
   "metadata": {},
   "source": [
    "### Splitting dataframe"
   ]
  },
  {
   "cell_type": "markdown",
   "id": "61ca90cc-cd62-474f-9d38-bfdc8c975892",
   "metadata": {},
   "source": [
    "We have a dataframe with all the asteroids. For the ephemeris step, we need to proceed asteroid by asteroid."
   ]
  },
  {
   "cell_type": "code",
   "execution_count": null,
   "id": "846a99b8-ed81-4cbe-8b59-3225932d6cd9",
   "metadata": {},
   "outputs": [],
   "source": [
    "sample = df"
   ]
  },
  {
   "cell_type": "code",
   "execution_count": null,
   "id": "ae571fa2-a6e0-4d0c-ba6a-7e354bb7b53c",
   "metadata": {},
   "outputs": [],
   "source": [
    "ids_sample = sample['idAsteroid'].drop_duplicates()\n",
    "ids_sample = ids_sample.to_numpy()\n",
    "len = ids_sample.size"
   ]
  },
  {
   "cell_type": "code",
   "execution_count": null,
   "id": "8af9e06f-ea1a-4ae4-a6ed-567ae74b935b",
   "metadata": {},
   "outputs": [],
   "source": [
    "# Function to split DataFrame based on the changing value in the 'target_column'\n",
    "def split_dataframe_on_value_change(df, column_name):\n",
    "    df_list = []\n",
    "    prev_value = None\n",
    "    temp_df = None\n",
    "\n",
    "    for index, row in df.iterrows():\n",
    "        current_value = row[column_name]\n",
    "\n",
    "        if prev_value is None or current_value != prev_value:\n",
    "            if temp_df is not None:\n",
    "                df_list.append(temp_df)\n",
    "            temp_df = pd.DataFrame(columns=df.columns)\n",
    "\n",
    "        temp_df = pd.concat([temp_df, row.to_frame().T], ignore_index=True)\n",
    "        prev_value = current_value\n",
    "\n",
    "    if temp_df is not None:\n",
    "        df_list.append(temp_df)\n",
    "\n",
    "    return df_list"
   ]
  },
  {
   "cell_type": "code",
   "execution_count": null,
   "id": "bf892a41-d116-4423-9929-564d441d6589",
   "metadata": {
    "editable": true,
    "slideshow": {
     "slide_type": ""
    },
    "tags": []
   },
   "outputs": [],
   "source": [
    "# Split the DataFrame based on the changing value in the 'target_column'\n",
    "print('Splitting')\n",
    "resulting_dataframes = split_dataframe_on_value_change(sample, 'idAsteroid')\n",
    "print('Splitted')"
   ]
  },
  {
   "cell_type": "markdown",
   "id": "954e89ce-371f-41bd-bd26-e5d44cc84541",
   "metadata": {},
   "source": [
    "### Ephemeris"
   ]
  },
  {
   "cell_type": "code",
   "execution_count": null,
   "id": "ab5d7448-ff35-44f4-bd20-b362982c0806",
   "metadata": {},
   "outputs": [],
   "source": [
    "# Ephemeris\n",
    "for idx, df in enumerate(resulting_dataframes):\n",
    "    ids = df['idAsteroid'].drop_duplicates().to_numpy()[0]\n",
    "    jd = df['jd'].to_numpy()\n",
    "\n",
    "    # If the list we pass to Horizons contains more than 50 elements, it throws an error.\n",
    "    if (jd.size <= 50):\n",
    "        obj = Horizons(id=ids, location='@Gaia',\n",
    "                epochs=jd, id_type='smallbody')\n",
    "    \n",
    "        #Ephemeris query\n",
    "        eph = obj.ephemerides()\n",
    "        elong_flag = eph.columns['elongFlag']\n",
    "        alpha = eph.columns['alpha']\n",
    "        delta = eph.columns['delta']\n",
    "        r = eph.columns['r']\n",
    "        \n",
    "        #Vectors query\n",
    "        vec = obj.vectors()\n",
    "        x_obs = vec.columns['x']\n",
    "        y_obs = vec.columns['y']\n",
    "        z_obs = vec.columns['z']\n",
    "        LT_obs = vec.columns['lighttime']\n",
    "    \n",
    "        #Query Sun-----------------------------------------\n",
    "        jd_tdb = Time(jd.tolist(), format='jd', scale='utc').tdb.value\n",
    "        obj_sun = Horizons(id=ids, location='500@10',\n",
    "                epochs=jd_tdb, id_type='smallbody')\n",
    "        vec_sun = obj.vectors()\n",
    "        x_sun = vec_sun.columns['x']\n",
    "        y_sun = vec_sun.columns['y']\n",
    "        z_sun = vec_sun.columns['z']  \n",
    "    \n",
    "        #Put in dataframe\n",
    "        #df.loc[idx,'Desig'] = desig[0]\n",
    "        df['ElongFlag'] = elong_flag\n",
    "        df['alpha'] = alpha\n",
    "        df['r'] = r\n",
    "        df['delta'] = delta\n",
    "        df['x_obs'] = x_obs\n",
    "        df['y_obs'] = y_obs\n",
    "        df['z_obs'] = z_obs\n",
    "        df['x_sun'] = x_sun\n",
    "        df['y_sun'] = y_sun\n",
    "        df['z_sun'] = z_sun\n",
    "        df['LT_obs'] = LT_obs\n",
    "        \n",
    "        m_red = df['m'] - 2.5*np.log10(df['r']*df['delta'])\n",
    "        df.insert(6, \"m_red\", m_red, True)\n",
    "        \n",
    "        df.to_csv('/home/milagros/Documents/Gaia-files/GAIADR3-asteroid'+str(ids)+'.csv', index=False) \n",
    "        \n",
    "        del obj\n",
    "        del eph\n",
    "        del obj_sun\n",
    "        del vec_sun\n",
    "        gc.collect()\n",
    "        print(ids, 'small done')\n",
    "\n",
    "    # To process lists of more than 50 elements, we split the dataframe and work part by part. At the end we merge everything into a single table.\n",
    "    if (jd.size > 50):\n",
    "        split_dataframes = np.array_split(df, 5)\n",
    "        calculated_dataframes = []\n",
    "        for i in split_dataframes:\n",
    "            obj = Horizons(id=ids, location='@Gaia',\n",
    "            epochs=i.jd.to_numpy(), id_type='smallbody')\n",
    "    \n",
    "            #Ephemeris query\n",
    "            eph = obj.ephemerides()\n",
    "            elong_flag = eph.columns['elongFlag']\n",
    "            alpha = eph.columns['alpha']\n",
    "            delta = eph.columns['delta']\n",
    "            r = eph.columns['r']\n",
    "            \n",
    "            #Vectors query\n",
    "            vec = obj.vectors()\n",
    "            x_obs = vec.columns['x']\n",
    "            y_obs = vec.columns['y']\n",
    "            z_obs = vec.columns['z']\n",
    "            LT_obs = vec.columns['lighttime']\n",
    "        \n",
    "            #Query Sun-----------------------------------------\n",
    "            jd_tdb = Time(i.jd.tolist(), format='jd', scale='utc').tdb.value\n",
    "            obj_sun = Horizons(id=ids, location='500@10',\n",
    "                    epochs=jd_tdb, id_type='smallbody')\n",
    "            vec_sun = obj.vectors()\n",
    "            x_sun = vec_sun.columns['x']\n",
    "            y_sun = vec_sun.columns['y']\n",
    "            z_sun = vec_sun.columns['z']  \n",
    "        \n",
    "            #Put in dataframe\n",
    "            #df.loc[idx,'Desig'] = desig[0]\n",
    "            i['ElongFlag'] = elong_flag\n",
    "            i['alpha'] = alpha\n",
    "            i['r'] = r\n",
    "            i['delta'] = delta\n",
    "            i['x_obs'] = x_obs\n",
    "            i['y_obs'] = y_obs\n",
    "            i['z_obs'] = z_obs\n",
    "            i['x_sun'] = x_sun\n",
    "            i['y_sun'] = y_sun\n",
    "            i['z_sun'] = z_sun\n",
    "            i['LT_obs'] = LT_obs\n",
    "            \n",
    "            m_red = i['m'] - 2.5*np.log10(i['r']*i['delta'])\n",
    "            i['m_red'] = m_red\n",
    "            \n",
    "            calculated_dataframes.append(i)\n",
    "            del obj\n",
    "            del eph\n",
    "            del obj_sun\n",
    "            del vec_sun\n",
    "            gc.collect()\n",
    "            \n",
    "        merged_df = pd.concat(calculated_dataframes, ignore_index=True)\n",
    "        merged_df['ElongFlag'] = merged_df['ElongFlag'].to_numpy()\n",
    "        merged_df['alpha'] = merged_df['alpha'].to_numpy()\n",
    "        merged_df['r'] = merged_df['r'].to_numpy()\n",
    "        merged_df['delta'] = merged_df['delta'].to_numpy()\n",
    "        merged_df['m_red'] = merged_df['m_red'].to_numpy()\n",
    "        merged_df['x_obs'] = merged_df['x_obs'].to_numpy()\n",
    "        merged_df['y_obs'] = merged_df['y_obs'].to_numpy()\n",
    "        merged_df['z_obs'] = merged_df['z_obs'].to_numpy()\n",
    "        merged_df['x_sun'] = merged_df['x_sun'].to_numpy()\n",
    "        merged_df['y_sun'] = merged_df['y_sun'].to_numpy()\n",
    "        merged_df['z_sun'] = merged_df['z_sun'].to_numpy()\n",
    "        merged_df['LT_obs'] = merged_df['LT_obs'].to_numpy()\n",
    "        \n",
    "        merged_df.to_csv('/home/milagros/Documents/Gaia-files/GAIADR3-asteroid'+str(ids)+'.csv', index=False)\n",
    "        print(ids, 'big done')\n",
    "    "
   ]
  },
  {
   "cell_type": "markdown",
   "id": "6c4057c5-79e1-4c40-aae2-678cf0442ea8",
   "metadata": {},
   "source": [
    "The end :)"
   ]
  }
 ],
 "metadata": {
  "kernelspec": {
   "display_name": "Python 3 (ipykernel)",
   "language": "python",
   "name": "python3"
  },
  "language_info": {
   "codemirror_mode": {
    "name": "ipython",
    "version": 3
   },
   "file_extension": ".py",
   "mimetype": "text/x-python",
   "name": "python",
   "nbconvert_exporter": "python",
   "pygments_lexer": "ipython3",
   "version": "3.11.2"
  }
 },
 "nbformat": 4,
 "nbformat_minor": 5
}
