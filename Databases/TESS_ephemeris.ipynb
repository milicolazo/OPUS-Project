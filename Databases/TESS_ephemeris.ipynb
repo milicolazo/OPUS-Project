{
 "cells": [
  {
   "cell_type": "markdown",
   "id": "9e39ecb5-920e-41d2-bf39-40a313dfaf3e",
   "metadata": {},
   "source": [
    "### Import libraries"
   ]
  },
  {
   "cell_type": "code",
   "execution_count": null,
   "id": "90d5022b-3c09-4081-90c4-aa02218f3230",
   "metadata": {},
   "outputs": [],
   "source": [
    "from astropy.time import Time\n",
    "from astroquery.jplhorizons import Horizons\n",
    "\n",
    "import matplotlib.pyplot as plt\n",
    "import numpy as np\n",
    "import os\n",
    "import pandas as pd\n",
    "import re\n",
    "import requests\n",
    "import time"
   ]
  },
  {
   "cell_type": "markdown",
   "id": "fa57e561-2f15-4a05-a1fe-ad7d91c48ed7",
   "metadata": {},
   "source": [
    "### Read the database"
   ]
  },
  {
   "cell_type": "code",
   "execution_count": null,
   "id": "c36835bc-387c-49cc-8aea-d2170c109dea",
   "metadata": {},
   "outputs": [],
   "source": [
    "# Dataframe\n",
    "df = pd.read_csv('TESS-data.csv', dtype={0: 'object'})\n",
    "\n",
    "df = df.rename(columns={'JD':'jd', 'Magnitude':'m', 'MagErr':'err_m'})\n",
    "df = df[['idAsteroid', 'jd', 'm', 'err_m', 'r', 'delta', 'alpha']]\n",
    "\n",
    "df = df.sort_values(by='idAsteroid')"
   ]
  },
  {
   "cell_type": "markdown",
   "id": "85fdbb42-26b3-4dc2-91d7-a9baca1d284e",
   "metadata": {},
   "source": [
    "### Avoid repetition"
   ]
  },
  {
   "cell_type": "markdown",
   "id": "ff9759c7-cd54-4e4d-9c75-9f33edc8910f",
   "metadata": {},
   "source": [
    "Sometimes, during the Horizons query, some problems may appear. For example, bad internet connection. If we restart the code,\n",
    "we don't want to repeat the process for asteroids that already have a .csv file. This part of the code prevent that."
   ]
  },
  {
   "cell_type": "code",
   "execution_count": null,
   "id": "ee30ad8d-b745-4d75-b9f0-d6a7c5545f30",
   "metadata": {},
   "outputs": [],
   "source": [
    "# Specify the folder path where your CSV files are located\n",
    "folder_path = '/home/milagros/Documents/TESS-files'\n",
    "\n",
    "# Initialize an empty list to store the formatted asteroid numbers\n",
    "formatted_asteroid_numbers = []\n",
    "\n",
    "# Define a regular expression pattern to match the filenames\n",
    "# This pattern allows for either numeric filenames or alphanumeric filenames with spaces\n",
    "pattern = r'TESS-asteroid(\\d+|[a-zA-Z0-9 ]+)\\.csv'\n",
    "\n",
    "# List all files in the folder\n",
    "files = os.listdir(folder_path)\n",
    "\n",
    "# Iterate through the files and extract the numbers\n",
    "for filename in files:\n",
    "    match = re.match(pattern, filename)\n",
    "    if match:\n",
    "        value = match.group(1)\n",
    "        if value.isdigit():\n",
    "            number = value\n",
    "            formatted_asteroid_numbers.append(number)\n",
    "        else:\n",
    "            formatted_asteroid_numbers.append(value)"
   ]
  },
  {
   "cell_type": "code",
   "execution_count": null,
   "id": "e34ef78c-14fd-499a-97a2-12163083ee77",
   "metadata": {},
   "outputs": [],
   "source": [
    "df = df[~df['idAsteroid'].isin(formatted_asteroid_numbers)]"
   ]
  },
  {
   "cell_type": "code",
   "execution_count": null,
   "id": "65c3d0ed-e509-4bc7-93a4-854441c6357c",
   "metadata": {},
   "outputs": [],
   "source": [
    "# This asteroid has nan values\n",
    "df = df[df['idAsteroid'] != '1']"
   ]
  },
  {
   "cell_type": "markdown",
   "id": "bc55ca2a-f149-4080-b780-95121044d303",
   "metadata": {},
   "source": [
    "### Calculations"
   ]
  },
  {
   "cell_type": "code",
   "execution_count": null,
   "id": "2469b801-42b3-4cd6-b812-e39244843e19",
   "metadata": {},
   "outputs": [],
   "source": [
    "# We need to perform some calculations to obtain the desired format for the table.\n",
    "\n",
    "# ----------------------------------------------------------------------------------------------------------------------\n",
    "# Compute reduced magnitude\n",
    "m_red = df['m'] - 5*np.log10(df['r']*df['delta'])\n",
    "m_red = m_red.to_numpy()\n",
    "df.insert(7, \"m_red\", m_red, True)\n",
    "# Compute flux\n",
    "flux = 10**(-0.4*df.m)\n",
    "flux = flux.to_numpy()\n",
    "df.insert(8, \"flux\", flux, True)\n",
    "e_flux = 0.4*10**(-0.4*df.m)*df.err_m\n",
    "df.insert(9, \"err_flux\", e_flux, True)\n",
    "# ----------------------------------------------------------------------------------------------------------------------\n",
    "#Add constant columns\n",
    "df.insert(10, 'Source', 'TESS')\n",
    "df.insert(11, 'TypePhotometry', 'relative')\n",
    "df.insert(12, 'LTcorrected', '0')\n",
    "df.insert(13, 'Filter', 't')\n",
    "# ----------------------------------------------------------------------------------------------------------------------\n",
    "#Add ephemeris columns\n",
    "df.insert(14, 'ElongFlag', '')\n",
    "df.insert(15, 'x_obs', '')\n",
    "df.insert(16, 'y_obs', '')\n",
    "df.insert(17, 'z_obs', '')\n",
    "df.insert(18, 'x_sun', '')\n",
    "df.insert(19, 'y_sun', '')\n",
    "df.insert(20, 'z_sun', '')\n",
    "df.insert(21, 'LT_obs', '')"
   ]
  },
  {
   "cell_type": "code",
   "execution_count": null,
   "id": "548889fd-87f7-406a-a8ef-c026621f432f",
   "metadata": {},
   "outputs": [],
   "source": [
    "# Make it Horizons' readable\n",
    "df['idAsteroid'] = df['idAsteroid'].str.replace('_',' ')"
   ]
  },
  {
   "cell_type": "markdown",
   "id": "c38558d4-dfb9-44f5-a7d4-b42a12b538ae",
   "metadata": {},
   "source": [
    "### Splitting dataframe"
   ]
  },
  {
   "cell_type": "markdown",
   "id": "8da4e541-3070-435d-b201-ac657f6c22dc",
   "metadata": {},
   "source": [
    "We have a dataframe with all the asteroids. For the ephemeris step, we need to proceed asteroid by asteroid."
   ]
  },
  {
   "cell_type": "code",
   "execution_count": null,
   "id": "5efd364d-be0b-4929-b5a9-0b49a75ee92c",
   "metadata": {},
   "outputs": [],
   "source": [
    "ids = df['idAsteroid'].drop_duplicates().to_numpy()"
   ]
  },
  {
   "cell_type": "code",
   "execution_count": null,
   "id": "4f5335d9-c698-4ea5-8a27-78436c3bf86f",
   "metadata": {},
   "outputs": [],
   "source": [
    "# Splitting dataframes\n",
    "sample = df\n",
    "ids_sample = sample['idAsteroid'].drop_duplicates()\n",
    "ids_sample = ids_sample.to_numpy()\n",
    "len = ids_sample.size\n",
    "# Function to split DataFrame based on the changing value in the 'target_column'\n",
    "def split_dataframe_on_value_change(df, column_name):\n",
    "    df_list = []\n",
    "    prev_value = None\n",
    "    temp_df = None\n",
    "\n",
    "    for index, row in df.iterrows():\n",
    "        current_value = row[column_name]\n",
    "\n",
    "        if prev_value is None or current_value != prev_value:\n",
    "            if temp_df is not None:\n",
    "                df_list.append(temp_df)\n",
    "            temp_df = pd.DataFrame(columns=df.columns)\n",
    "\n",
    "        temp_df = pd.concat([temp_df, row.to_frame().T], ignore_index=True)\n",
    "        prev_value = current_value\n",
    "\n",
    "    if temp_df is not None:\n",
    "        df_list.append(temp_df)\n",
    "\n",
    "    return df_list\n",
    "# Split the DataFrame based on the changing value in the 'target_column'\n",
    "print('Splitting')\n",
    "resulting_dataframes = split_dataframe_on_value_change(sample, 'idAsteroid')\n",
    "print('Splitted')\n",
    "# ----------------------------------------------------------------------------------------------------------------------"
   ]
  },
  {
   "cell_type": "markdown",
   "id": "b39af1e4-450d-47d5-915a-081aee002e13",
   "metadata": {},
   "source": [
    "### Ephemeris"
   ]
  },
  {
   "cell_type": "code",
   "execution_count": null,
   "id": "f587e316-a91d-48b1-a27c-116dc11ef3b8",
   "metadata": {},
   "outputs": [],
   "source": [
    "# Ephemeris\n",
    "for idx, df in enumerate(resulting_dataframes):\n",
    "    ids = df['idAsteroid'].drop_duplicates().to_numpy()[0]\n",
    "    jd = df['jd'].to_numpy()\n",
    "\n",
    "    # If the list we pass to Horizons contains more than 50 elements, it throws an error.\n",
    "    if jd.size <= 50:\n",
    "\n",
    "        #Ephemeris query       \n",
    "        e_obj = Horizons(id=ids, location='@TESS', epochs=jd, id_type='smallbody') # Julian date in UTC for ephemerides\n",
    "        eph = e_obj.ephemerides()\n",
    "        elong_flag = eph.columns['elongFlag']\n",
    "\n",
    "        #Vectors query\n",
    "        jd_tdb = Time(jd.tolist(), format='jd', scale='utc').tdb.value\n",
    "        v_obj = Horizons(id=ids, location='@TESS', epochs=jd_tdb, id_type='smallbody') # Julian date in TDB for vectors\n",
    "        vec = v_obj.vectors()\n",
    "        x_obs = vec.columns['x']\n",
    "        y_obs = vec.columns['y']\n",
    "        z_obs = vec.columns['z']\n",
    "        LT_obs = vec.columns['lighttime']\n",
    "\n",
    "        #Query Sun-----------------------------------------\n",
    "        obj_sun = Horizons(id=ids, location='500@10',\n",
    "                epochs=jd_tdb, id_type='smallbody')\n",
    "        vec_sun = obj.vectors()\n",
    "        x_sun = vec_sun.columns['x']\n",
    "        y_sun = vec_sun.columns['y']\n",
    "        z_sun = vec_sun.columns['z']  \n",
    "\n",
    "        #Put in dataframe\n",
    "\n",
    "        df['ElongFlag'] = elong_flag\n",
    "        df['x_obs'] = x_obs\n",
    "        df['y_obs'] = y_obs\n",
    "        df['z_obs'] = z_obs\n",
    "        df['x_sun'] = x_sun\n",
    "        df['y_sun'] = y_sun\n",
    "        df['z_sun'] = z_sun\n",
    "        df['LT_obs'] = LT_obs\n",
    "        df = df[['idAsteroid', 'jd', 'm', 'err_m', 'flux', 'err_flux', 'm_red', 'Filter', 'alpha', 'delta', 'r', 'ElongFlag', 'Source', 'TypePhotometry', 'LTcorrected','x_obs', 'y_obs', 'z_obs', 'x_sun', 'y_sun', 'z_sun', 'LT_obs']]\n",
    "        df.to_csv('/home/milagros/Documents/TESS-files/TESS-asteroid'+str(ids)+'.csv', index=False) \n",
    "        \n",
    "        del obj\n",
    "        del eph\n",
    "        del obj_sun\n",
    "        del vec_sun\n",
    "        gc.collect()\n",
    "        print(ids, 'small done')\n",
    "        \n",
    "    # To process lists of more than 50 elements, we split the dataframe and work part by part. At the end we merge everything into a single table.    \n",
    "    else:\n",
    "        split_dataframes = np.array_split(df, 35)\n",
    "        calculated_dataframes = []\n",
    "        for i in split_dataframes:\n",
    "            \n",
    "            #Ephemeris query\n",
    "            e_obj = Horizons(id=ids, location='@TESS',epochs=i.jd.to_numpy(), id_type='smallbody')\n",
    "            eph = e_obj.ephemerides()\n",
    "            elong_flag = eph.columns['elongFlag']\n",
    "            \n",
    "            #Vectors query\n",
    "            jd_tdb = Time(i.jd.tolist(), format='jd', scale='utc').tdb.value\n",
    "            v_obj = Horizons(id=ids, location='@TESS',epochs=jd_tdb, id_type='smallbody')\n",
    "            vec = v_obj.vectors()\n",
    "            x_obs = vec.columns['x']\n",
    "            y_obs = vec.columns['y']\n",
    "            z_obs = vec.columns['z']\n",
    "            LT_obs = vec.columns['lighttime']\n",
    "            \n",
    "            #Query Sun-----------------------------------------\n",
    "            obj_sun = Horizons(id=ids, location='500@10',epochs=jd_tdb., id_type='smallbody')\n",
    "            vec_sun = obj_sun.vectors()\n",
    "            x_sun = vec_sun.columns['x']\n",
    "            y_sun = vec_sun.columns['y']\n",
    "            z_sun = vec_sun.columns['z']\n",
    "            \n",
    "            i['ElongFlag'] = elong_flag\n",
    "            i['x_obs'] = x_obs\n",
    "            i['y_obs'] = y_obs\n",
    "            i['z_obs'] = z_obs\n",
    "            i['x_sun'] = x_sun\n",
    "            i['y_sun'] = y_sun\n",
    "            i['z_sun'] = z_sun\n",
    "            i['LT_obs'] = LT_obs\n",
    "\n",
    "            calculated_dataframes.append(i)\n",
    "            del obj\n",
    "            del eph\n",
    "            del obj_sun\n",
    "            del vec_sun\n",
    "            \n",
    "        merged_df = pd.concat(calculated_dataframes, ignore_index=True)\n",
    "        \n",
    "        merged_df['ElongFlag'] = merged_df['ElongFlag'].to_numpy()\n",
    "        merged_df['x_obs'] = merged_df['x_obs'].to_numpy()\n",
    "        merged_df['y_obs'] = merged_df['y_obs'].to_numpy()\n",
    "        merged_df['z_obs'] = merged_df['z_obs'].to_numpy()\n",
    "        merged_df['x_sun'] = merged_df['x_sun'].to_numpy()\n",
    "        merged_df['y_sun'] = merged_df['y_sun'].to_numpy()\n",
    "        merged_df['z_sun'] = merged_df['z_sun'].to_numpy()\n",
    "        merged_df['LT_obs'] = merged_df['LT_obs'].to_numpy()\n",
    "        merged_df = merged_df[['idAsteroid', 'jd', 'm', 'err_m', 'flux', 'err_flux', 'm_red', 'Filter', 'alpha', 'delta', 'r', 'ElongFlag', 'Source', 'TypePhotometry', 'LTcorrected','x_obs', 'y_obs', 'z_obs', 'x_sun', 'y_sun', 'z_sun', 'LT_obs']]\n",
    "        merged_df.to_csv('/home/milagros/Documents/TESS-files/TESS-asteroid'+str(ids)+'.csv', index=False)\n",
    "        print(ids, 'big done')\n",
    "    \n",
    "        gc.collect()\n",
    "\n",
    "print('Done')"
   ]
  },
  {
   "cell_type": "markdown",
   "id": "112efa58-db51-48e5-a767-21599e0049ca",
   "metadata": {},
   "source": [
    "The end :)"
   ]
  }
 ],
 "metadata": {
  "kernelspec": {
   "display_name": "Python 3 (ipykernel)",
   "language": "python",
   "name": "python3"
  },
  "language_info": {
   "codemirror_mode": {
    "name": "ipython",
    "version": 3
   },
   "file_extension": ".py",
   "mimetype": "text/x-python",
   "name": "python",
   "nbconvert_exporter": "python",
   "pygments_lexer": "ipython3",
   "version": "3.11.2"
  }
 },
 "nbformat": 4,
 "nbformat_minor": 5
}
