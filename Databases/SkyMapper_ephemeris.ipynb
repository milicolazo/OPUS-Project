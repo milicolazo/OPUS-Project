{
 "cells": [
  {
   "cell_type": "markdown",
   "id": "1a70f5d1-5cb9-455a-9cd0-8908a55a23a9",
   "metadata": {},
   "source": [
    "### Import the libraries"
   ]
  },
  {
   "cell_type": "code",
   "execution_count": null,
   "id": "d8d8351c-1b51-46ba-b2d8-a0cbd2d928f2",
   "metadata": {},
   "outputs": [],
   "source": [
    "from astropy.time import Time\n",
    "from astroquery.jplhorizons import Horizons\n",
    "\n",
    "import matplotlib.pyplot as plt\n",
    "import numpy as np\n",
    "import os\n",
    "import pandas as pd\n",
    "import re\n",
    "import requests\n",
    "import time"
   ]
  },
  {
   "cell_type": "markdown",
   "id": "04747c01-0bba-4e4b-983b-96c6a9533cb0",
   "metadata": {},
   "source": [
    "### Read the database"
   ]
  },
  {
   "cell_type": "code",
   "execution_count": null,
   "id": "60c971a6-02d8-4fb1-b195-1d48db29d916",
   "metadata": {},
   "outputs": [],
   "source": [
    "csv_input='skm-obs.dat'\n",
    "df=pd.read_fwf(csv_input,colspecs=\"infer\", engine='python', header=None, dtype = {11: 'string'})"
   ]
  },
  {
   "cell_type": "code",
   "execution_count": null,
   "id": "bcaae599-0b62-4676-91be-a1cb3800f0a6",
   "metadata": {},
   "outputs": [],
   "source": [
    "df = df.rename(columns = {0: 'Source', 1: 'Frame', 2: 'jd', 3: 'Filter', 4: 'Exptime', 5: 'RAdeg', 6: 'DEdeg', 7: 'm', 8: 'err_m', \n",
    "              9: 'petromag', 10: 'e_petromag', 11: 'idAsteroid', 12: 'desig', 13: 'DynClass', 14: 'RArate' , 15: 'DErate', 16: 'Vmag'})"
   ]
  },
  {
   "cell_type": "code",
   "execution_count": null,
   "id": "39dc50d0-316b-43b2-b686-bc407334daa7",
   "metadata": {},
   "outputs": [],
   "source": [
    "df = df[['idAsteroid', 'desig', 'jd', 'm', 'err_m', 'Filter']]"
   ]
  },
  {
   "cell_type": "code",
   "execution_count": null,
   "id": "64ebf539-58a8-4719-bdf4-2f1aa2d1cd8b",
   "metadata": {},
   "outputs": [],
   "source": [
    "df = df.sort_values(by='idAsteroid')"
   ]
  },
  {
   "cell_type": "code",
   "execution_count": null,
   "id": "0a1731ae-8ec5-44a9-a08a-adbcf7b74ae5",
   "metadata": {},
   "outputs": [],
   "source": [
    "# Some asteroids have only designation (not number), so we merge those columns to adapt it to our style.\n",
    "df['idAsteroid'] = df['idAsteroid'].fillna(df.pop('desig'))"
   ]
  },
  {
   "cell_type": "markdown",
   "id": "9c46120a-b62f-40f2-9dec-3ffb3e3c4fd0",
   "metadata": {},
   "source": [
    "### Avoid repetition"
   ]
  },
  {
   "cell_type": "markdown",
   "id": "82b27a94-f3a9-478e-b03a-17395d910ce2",
   "metadata": {},
   "source": [
    "Sometimes, during the Horizons query, some problems may appear. For example, bad internet connection. If we restart the code,\n",
    "we don't want to repeat the process for asteroids that already have a .csv file. This part of the code prevent that."
   ]
  },
  {
   "cell_type": "code",
   "execution_count": null,
   "id": "c08a5bc0-1f76-456e-8e20-cb3b0478e60c",
   "metadata": {},
   "outputs": [],
   "source": [
    "# # Specify the folder path where your CSV files are located\n",
    "folder_path = '/home/milagros/Documents/SkyMapper-files'\n",
    "\n",
    "# # Initialize an empty list to store the formatted asteroid numbers\n",
    "formatted_asteroid_numbers = []\n",
    "\n",
    "# # Define a regular expression pattern to match the filenames\n",
    "pattern = r'SkyMapper-asteroid(\\d+)\\.csv'\n",
    "\n",
    "# # List all files in the folder\n",
    "files = os.listdir(folder_path)\n",
    "\n",
    "# # Iterate through the files and extract the numbers\n",
    "for filename in files:\n",
    "    match = re.match(pattern, filename)\n",
    "    if match:\n",
    "        number = (match.group(1))\n",
    "       \n",
    "        formatted_asteroid_numbers.append(number)"
   ]
  },
  {
   "cell_type": "code",
   "execution_count": null,
   "id": "5330149c-24df-4917-abd8-0ba90b44af06",
   "metadata": {},
   "outputs": [],
   "source": [
    "df = df[~df['idAsteroid'].isin(formatted_asteroid_numbers)]"
   ]
  },
  {
   "cell_type": "markdown",
   "id": "b96840e3-ed94-41a9-bfa8-8830a468e8b7",
   "metadata": {},
   "source": [
    "### Calculations"
   ]
  },
  {
   "cell_type": "code",
   "execution_count": null,
   "id": "7ac15355-7b77-4057-ac81-24f46b728ff6",
   "metadata": {},
   "outputs": [],
   "source": [
    "# We need to perform some calculations to obtain the desired format for the table.\n",
    "\n",
    "# Compute flux\n",
    "flux = 10**(-0.4*df.m)\n",
    "flux = flux.to_numpy()\n",
    "df.insert(4, \"flux\", flux, True)\n",
    "e_flux = 0.4*10**(-0.4*df.m)*df.err_m\n",
    "df.insert(5, \"err_flux\", e_flux, True)\n",
    "# ----------------------------------------------------------------------------------------------------------------------\n",
    "#Add constant columns\n",
    "df.insert(5, 'Source', 'SkyMapper')\n",
    "df.insert(6, 'TypePhotometry', 'relative')\n",
    "df.insert(7, 'LTcorrected', '0')\n",
    "# ----------------------------------------------------------------------------------------------------------------------\n",
    "#Add ephemeris columns\n",
    "df.insert(8, 'ElongFlag', '')\n",
    "df.insert(9, 'alpha', '')\n",
    "df.insert(10, 'r', '')\n",
    "df.insert(11, 'delta', '')\n",
    "df.insert(12, 'x_obs', '')\n",
    "df.insert(13, 'y_obs', '')\n",
    "df.insert(14, 'z_obs', '')\n",
    "df.insert(15, 'x_sun', '')\n",
    "df.insert(16, 'y_sun', '')\n",
    "df.insert(17, 'z_sun', '')\n",
    "df.insert(18, 'LT_obs', '')"
   ]
  },
  {
   "cell_type": "markdown",
   "id": "04072a1f-5538-41a1-a498-5a8fd902bec0",
   "metadata": {},
   "source": [
    "### Splitting dataframe"
   ]
  },
  {
   "cell_type": "markdown",
   "id": "78387dbf-d9c9-4e83-9894-133a06f2189c",
   "metadata": {},
   "source": [
    "We have a dataframe with all the asteroids. For the ephemeris step, we need to proceed asteroid by asteroid."
   ]
  },
  {
   "cell_type": "code",
   "execution_count": null,
   "id": "f9debb2c-117a-4af2-b898-382f3b6bc308",
   "metadata": {},
   "outputs": [],
   "source": [
    "sample = df\n",
    "ids_sample = sample['idAsteroid'].drop_duplicates()\n",
    "ids_sample = ids_sample.to_numpy()\n",
    "len = ids_sample.size"
   ]
  },
  {
   "cell_type": "code",
   "execution_count": null,
   "id": "bb14c59c-9266-4dd9-9167-7210e619dce5",
   "metadata": {},
   "outputs": [],
   "source": [
    "# Function to split DataFrame based on the changing value in the 'target_column'\n",
    "def split_dataframe_on_value_change(df, column_name):\n",
    "    df_list = []\n",
    "    prev_value = None\n",
    "    temp_df = None\n",
    "\n",
    "    for index, row in df.iterrows():\n",
    "        current_value = row[column_name]\n",
    "\n",
    "        if prev_value is None or current_value != prev_value:\n",
    "            if temp_df is not None:\n",
    "                df_list.append(temp_df)\n",
    "            temp_df = pd.DataFrame(columns=df.columns)\n",
    "\n",
    "        temp_df = pd.concat([temp_df, row.to_frame().T], ignore_index=True)\n",
    "        prev_value = current_value\n",
    "\n",
    "    if temp_df is not None:\n",
    "        df_list.append(temp_df)\n",
    "\n",
    "    return df_list"
   ]
  },
  {
   "cell_type": "code",
   "execution_count": null,
   "id": "c8493be0-342a-4257-94bf-2961c87c9bab",
   "metadata": {},
   "outputs": [],
   "source": [
    "# Split the DataFrame based on the changing value in the 'target_column'\n",
    "resulting_dataframes = split_dataframe_on_value_change(sample, 'idAsteroid')"
   ]
  },
  {
   "cell_type": "markdown",
   "id": "eec49aaf-abc4-448a-ad54-9cc4cba1d083",
   "metadata": {},
   "source": [
    "### Ephemeris"
   ]
  },
  {
   "cell_type": "code",
   "execution_count": null,
   "id": "36d03bd0-18bb-4260-9402-1ed9efe8f977",
   "metadata": {},
   "outputs": [],
   "source": [
    "# Ephemeris\n",
    "for idx, df in enumerate(resulting_dataframes):\n",
    "    ids = df['idAsteroid'].drop_duplicates().to_numpy()[0]\n",
    "    jd = df['jd'].to_numpy()\n",
    "\n",
    "    # If the list we pass to Horizons contains more than 50 elements, it throws an error.\n",
    "    if (jd.size <= 50):\n",
    "    \n",
    "        #Ephemeris query\n",
    "        e_obj = Horizons(id=ids, location='Q55@399', epochs=jd, id_type='smallbody') # Julian date in UTC for ephemerides\n",
    "        eph = e_obj.ephemerides()\n",
    "        elong_flag = eph.columns['elongFlag']\n",
    "        alpha = eph.columns['alpha']\n",
    "        delta = eph.columns['delta']\n",
    "        r = eph.columns['r']\n",
    "        \n",
    "        #Vectors query\n",
    "        jd_tdb = Time(jd.tolist(), format='jd', scale='utc').tdb.value\n",
    "        v_obj = Horizons(id=ids, location='Q55@399', epochs=jd_tdb, id_type='smallbody') # Julian date in TDB for vectors\n",
    "        vec = v_obj.vectors()\n",
    "        x_obs = vec.columns['x']\n",
    "        y_obs = vec.columns['y']\n",
    "        z_obs = vec.columns['z']\n",
    "        LT_obs = vec.columns['lighttime']\n",
    "    \n",
    "        #Query Sun-----------------------------------------\n",
    "        obj_sun = Horizons(id=ids, location='500@10',\n",
    "                epochs=jd_tdb, id_type='smallbody')\n",
    "        vec_sun = obj_sun.vectors()\n",
    "        x_sun = vec_sun.columns['x']\n",
    "        y_sun = vec_sun.columns['y']\n",
    "        z_sun = vec_sun.columns['z']  \n",
    "    \n",
    "        #Put in dataframe\n",
    "        df['ElongFlag'] = elong_flag\n",
    "        df['alpha'] = alpha\n",
    "        df['r'] = r\n",
    "        df['delta'] = delta\n",
    "        df['x_obs'] = x_obs\n",
    "        df['y_obs'] = y_obs\n",
    "        df['z_obs'] = z_obs\n",
    "        df['x_sun'] = x_sun\n",
    "        df['y_sun'] = y_sun\n",
    "        df['z_sun'] = z_sun\n",
    "        df['LT_obs'] = LT_obs\n",
    "        \n",
    "        m_red = df['m'] - 5*np.log10(df['r']*df['delta'])\n",
    "        df.insert(6, \"m_red\", m_red, True)\n",
    "        df = df[['idAsteroid', 'jd', 'm', 'err_m', 'flux', 'err_flux', 'm_red', 'Filter', 'alpha', 'delta', 'r', 'ElongFlag', 'Source', 'TypePhotometry', 'LTcorrected','x_obs', 'y_obs', 'z_obs', 'x_sun', 'y_sun', 'z_sun', 'LT_obs']]\n",
    "        df.to_csv('/home/milagros/Documents/SkyMapper-files/SkyMapper-asteroid'+str(ids)+'.csv', index=False) \n",
    "        \n",
    "        del obj\n",
    "        del eph\n",
    "        del obj_sun\n",
    "        del vec_sun\n",
    "        gc.collect()\n",
    "        print(ids, 'small done')\n",
    "\n",
    "    # To process lists of more than 50 elements, we split the dataframe and work part by part. At the end we merge everything into a single table.\n",
    "    if (jd.size > 50):\n",
    "        split_dataframes = np.array_split(df, 5)\n",
    "        calculated_dataframes = []\n",
    "        for i in split_dataframes\n",
    "\n",
    "            #Ephemeris query\n",
    "            e_obj = Horizons(id=ids, location='Q55@399', epochs=i.jd.to_numpy(), id_type='smallbody')\n",
    "            eph = e_obj.ephemerides()\n",
    "            elong_flag = eph.columns['elongFlag']\n",
    "            alpha = eph.columns['alpha']\n",
    "            delta = eph.columns['delta']\n",
    "            r = eph.columns['r']\n",
    "            \n",
    "            #Vectors query\n",
    "            jd_tdb = Time(i.jd.tolist(), format='jd', scale='utc').tdb.value\n",
    "            v_obj = Horizons(id=ids, location='Q55@399', epochs=jd_tdb, id_type='smallbody')\n",
    "            vec = v_obj.vectors()\n",
    "            x_obs = vec.columns['x']\n",
    "            y_obs = vec.columns['y']\n",
    "            z_obs = vec.columns['z']\n",
    "            LT_obs = vec.columns['lighttime']\n",
    "        \n",
    "            #Query Sun-----------------------------------------\n",
    "            obj_sun = Horizons(id=ids, location='500@10', epochs=jd_tdb, id_type='smallbody')\n",
    "            vec_sun = obj_sun.vectors()\n",
    "            x_sun = vec_sun.columns['x']\n",
    "            y_sun = vec_sun.columns['y']\n",
    "            z_sun = vec_sun.columns['z']  \n",
    "        \n",
    "            #Put in dataframe\n",
    "            i['ElongFlag'] = elong_flag\n",
    "            i['alpha'] = alpha\n",
    "            i['r'] = r\n",
    "            i['delta'] = delta\n",
    "            i['x_obs'] = x_obs\n",
    "            i['y_obs'] = y_obs\n",
    "            i['z_obs'] = z_obs\n",
    "            i['x_sun'] = x_sun\n",
    "            i['y_sun'] = y_sun\n",
    "            i['z_sun'] = z_sun\n",
    "            i['LT_obs'] = LT_obs\n",
    "            \n",
    "            m_red = i['m'] - 5*np.log10(i['r']*i['delta'])\n",
    "            i['m_red'] = m_red\n",
    "            \n",
    "            calculated_dataframes.append(i)\n",
    "            del obj\n",
    "            del eph\n",
    "            del obj_sun\n",
    "            del vec_sun\n",
    "            gc.collect()\n",
    "            \n",
    "        merged_df = pd.concat(calculated_dataframes, ignore_index=True)\n",
    "        merged_df = merged_df[['idAsteroid', 'jd', 'm', 'err_m', 'flux', 'err_flux', 'm_red', 'Filter', 'alpha', 'delta', 'r', 'ElongFlag', 'Source', 'TypePhotometry', 'LTcorrected','x_obs', 'y_obs', 'z_obs', 'x_sun', 'y_sun', 'z_sun', 'LT_obs']]\n",
    "        merged_df['ElongFlag'] = merged_df['ElongFlag'].to_numpy()\n",
    "        merged_df['alpha'] = merged_df['alpha'].to_numpy()\n",
    "        merged_df['r'] = merged_df['r'].to_numpy()\n",
    "        merged_df['delta'] = merged_df['delta'].to_numpy()\n",
    "        merged_df['m_red'] = merged_df['m_red'].to_numpy()\n",
    "        merged_df['x_obs'] = merged_df['x_obs'].to_numpy()\n",
    "        merged_df['y_obs'] = merged_df['y_obs'].to_numpy()\n",
    "        merged_df['z_obs'] = merged_df['z_obs'].to_numpy()\n",
    "        merged_df['x_sun'] = merged_df['x_sun'].to_numpy()\n",
    "        merged_df['y_sun'] = merged_df['y_sun'].to_numpy()\n",
    "        merged_df['z_sun'] = merged_df['z_sun'].to_numpy()\n",
    "        merged_df['LT_obs'] = merged_df['LT_obs'].to_numpy()\n",
    "        \n",
    "        merged_df.to_csv('/home/milagros/Documents/SkyMapper-files/SkyMapper-asteroid'+str(ids)+'.csv', index=False)\n",
    "        print(ids, 'big done')\n",
    "    "
   ]
  },
  {
   "cell_type": "markdown",
   "id": "b0044e03-8287-4151-a8f0-3af643e127c3",
   "metadata": {},
   "source": [
    "The end :)"
   ]
  }
 ],
 "metadata": {
  "kernelspec": {
   "display_name": "Python 3 (ipykernel)",
   "language": "python",
   "name": "python3"
  },
  "language_info": {
   "codemirror_mode": {
    "name": "ipython",
    "version": 3
   },
   "file_extension": ".py",
   "mimetype": "text/x-python",
   "name": "python",
   "nbconvert_exporter": "python",
   "pygments_lexer": "ipython3",
   "version": "3.11.2"
  }
 },
 "nbformat": 4,
 "nbformat_minor": 5
}
